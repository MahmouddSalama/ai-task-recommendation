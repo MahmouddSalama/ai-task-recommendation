{
 "cells": [
  {
   "cell_type": "code",
   "execution_count": 15,
   "id": "a5de97a8",
   "metadata": {},
   "outputs": [],
   "source": [
    "from sklearn.model_selection import train_test_split\n",
    "from sklearn.preprocessing import MultiLabelBinarizer, LabelEncoder\n",
    "from sklearn.ensemble import RandomForestClassifier\n",
    "from sklearn.pipeline import Pipeline\n",
    "from sklearn.compose import ColumnTransformer\n",
    "from sklearn.feature_extraction.text import CountVectorizer\n",
    "from sklearn.neighbors import KNeighborsClassifier\n",
    "\n",
    "from sklearn.metrics import classification_report\n",
    "import numpy as np\n",
    "import pandas as pd"
   ]
  },
  {
   "cell_type": "code",
   "execution_count": 4,
   "id": "ced711ba",
   "metadata": {},
   "outputs": [
    {
     "name": "stdout",
     "output_type": "stream",
     "text": [
      "100\n"
     ]
    },
    {
     "data": {
      "text/html": [
       "<div>\n",
       "<style scoped>\n",
       "    .dataframe tbody tr th:only-of-type {\n",
       "        vertical-align: middle;\n",
       "    }\n",
       "\n",
       "    .dataframe tbody tr th {\n",
       "        vertical-align: top;\n",
       "    }\n",
       "\n",
       "    .dataframe thead th {\n",
       "        text-align: right;\n",
       "    }\n",
       "</style>\n",
       "<table border=\"1\" class=\"dataframe\">\n",
       "  <thead>\n",
       "    <tr style=\"text-align: right;\">\n",
       "      <th></th>\n",
       "      <th>Task Type</th>\n",
       "      <th>Field</th>\n",
       "      <th>Difficulty</th>\n",
       "      <th>Current Skills</th>\n",
       "      <th>Skills to Learn</th>\n",
       "      <th>Available Time per Day (hrs)</th>\n",
       "      <th>Suggested Task</th>\n",
       "    </tr>\n",
       "  </thead>\n",
       "  <tbody>\n",
       "    <tr>\n",
       "      <th>0</th>\n",
       "      <td>Administrative</td>\n",
       "      <td>Healthcare</td>\n",
       "      <td>Hard</td>\n",
       "      <td>Photoshop</td>\n",
       "      <td>Communication, Google Ads</td>\n",
       "      <td>5</td>\n",
       "      <td>Design Marketing Posters</td>\n",
       "    </tr>\n",
       "    <tr>\n",
       "      <th>1</th>\n",
       "      <td>Volunteer</td>\n",
       "      <td>Design</td>\n",
       "      <td>Medium</td>\n",
       "      <td>Data Analysis, Python, Google Ads</td>\n",
       "      <td>Data Analysis</td>\n",
       "      <td>7</td>\n",
       "      <td>Optimize Ad Campaigns</td>\n",
       "    </tr>\n",
       "    <tr>\n",
       "      <th>2</th>\n",
       "      <td>Creative</td>\n",
       "      <td>Design</td>\n",
       "      <td>Medium</td>\n",
       "      <td>Excel, Communication</td>\n",
       "      <td>Communication, Team Management</td>\n",
       "      <td>7</td>\n",
       "      <td>General Assistant Task</td>\n",
       "    </tr>\n",
       "    <tr>\n",
       "      <th>3</th>\n",
       "      <td>Volunteer</td>\n",
       "      <td>Marketing</td>\n",
       "      <td>Hard</td>\n",
       "      <td>Photoshop, Communication, Google Ads</td>\n",
       "      <td>Photoshop, Communication</td>\n",
       "      <td>6</td>\n",
       "      <td>Design Marketing Posters</td>\n",
       "    </tr>\n",
       "    <tr>\n",
       "      <th>4</th>\n",
       "      <td>Volunteer</td>\n",
       "      <td>Research</td>\n",
       "      <td>Easy</td>\n",
       "      <td>Team Management, Python</td>\n",
       "      <td>Photoshop</td>\n",
       "      <td>5</td>\n",
       "      <td>Statistical Report Automation</td>\n",
       "    </tr>\n",
       "  </tbody>\n",
       "</table>\n",
       "</div>"
      ],
      "text/plain": [
       "        Task Type       Field Difficulty  \\\n",
       "0  Administrative  Healthcare       Hard   \n",
       "1       Volunteer      Design     Medium   \n",
       "2        Creative      Design     Medium   \n",
       "3       Volunteer   Marketing       Hard   \n",
       "4       Volunteer    Research       Easy   \n",
       "\n",
       "                         Current Skills                 Skills to Learn  \\\n",
       "0                             Photoshop       Communication, Google Ads   \n",
       "1     Data Analysis, Python, Google Ads                   Data Analysis   \n",
       "2                  Excel, Communication  Communication, Team Management   \n",
       "3  Photoshop, Communication, Google Ads        Photoshop, Communication   \n",
       "4               Team Management, Python                       Photoshop   \n",
       "\n",
       "   Available Time per Day (hrs)                 Suggested Task  \n",
       "0                             5       Design Marketing Posters  \n",
       "1                             7          Optimize Ad Campaigns  \n",
       "2                             7         General Assistant Task  \n",
       "3                             6       Design Marketing Posters  \n",
       "4                             5  Statistical Report Automation  "
      ]
     },
     "execution_count": 4,
     "metadata": {},
     "output_type": "execute_result"
    }
   ],
   "source": [
    "file_path = \"data/user_task_preferences.csv\"\n",
    "df = pd.read_csv(file_path)\n",
    "print(len(df))\n",
    "df.head()"
   ]
  },
  {
   "cell_type": "code",
   "execution_count": 5,
   "id": "af4b205d",
   "metadata": {},
   "outputs": [],
   "source": [
    "df['Current Skills'] = df['Current Skills'].apply(lambda x: [skill.strip() for skill in x.split(',')])\n",
    "df['Skills to Learn'] = df['Skills to Learn'].apply(lambda x: [skill.strip() for skill in x.split(',')])"
   ]
  },
  {
   "cell_type": "code",
   "execution_count": null,
   "id": "a8b61cd0",
   "metadata": {},
   "outputs": [],
   "source": [
    "label_encoder = LabelEncoder()\n",
    "df['Suggested Task Encoded'] = label_encoder.fit_transform(df['Suggested Task'])"
   ]
  },
  {
   "cell_type": "code",
   "execution_count": 7,
   "id": "69bb8724",
   "metadata": {},
   "outputs": [],
   "source": [
    "X = df.drop(columns=['Suggested Task', 'Suggested Task Encoded'])\n",
    "y = df['Suggested Task Encoded']"
   ]
  },
  {
   "cell_type": "code",
   "execution_count": 40,
   "id": "f5a56336",
   "metadata": {},
   "outputs": [],
   "source": [
    "def skills_tokenizer(x):\n",
    "    return x\n",
    "preprocessor = ColumnTransformer(transformers=[\n",
    "    ('task_type', CountVectorizer(), 'Task Type'),\n",
    "    ('field', CountVectorizer(), 'Field'),\n",
    "    ('difficulty', CountVectorizer(), 'Difficulty'),\n",
    "    ('current_skills', CountVectorizer(tokenizer=skills_tokenizer, preprocessor=skills_tokenizer), 'Current Skills'),\n",
    "    ('skills_to_learn', CountVectorizer(tokenizer=skills_tokenizer, preprocessor=skills_tokenizer), 'Skills to Learn'),\n",
    "], remainder='passthrough')  # Keep numeric column as-is\n"
   ]
  },
  {
   "cell_type": "code",
   "execution_count": 43,
   "id": "3c3f1397",
   "metadata": {},
   "outputs": [],
   "source": [
    "pipeline = Pipeline(steps=[\n",
    "    ('preprocessor', preprocessor),\n",
    "    ('classifier', RandomForestClassifier(n_estimators=100, random_state=42))\n",
    "])"
   ]
  },
  {
   "cell_type": "code",
   "execution_count": 44,
   "id": "c10c1fac",
   "metadata": {},
   "outputs": [],
   "source": [
    "X_train, X_test, y_train, y_test = train_test_split(X, y, test_size=0.2, random_state=42)"
   ]
  },
  {
   "cell_type": "code",
   "execution_count": 45,
   "id": "0cfbb2fb",
   "metadata": {},
   "outputs": [
    {
     "name": "stderr",
     "output_type": "stream",
     "text": [
      "c:\\Users\\mahmo\\anaconda3\\envs\\workDeep\\lib\\site-packages\\sklearn\\feature_extraction\\text.py:525: UserWarning: The parameter 'token_pattern' will not be used since 'tokenizer' is not None'\n",
      "  warnings.warn(\n"
     ]
    },
    {
     "data": {
      "text/html": [
       "<style>#sk-container-id-5 {color: black;}#sk-container-id-5 pre{padding: 0;}#sk-container-id-5 div.sk-toggleable {background-color: white;}#sk-container-id-5 label.sk-toggleable__label {cursor: pointer;display: block;width: 100%;margin-bottom: 0;padding: 0.3em;box-sizing: border-box;text-align: center;}#sk-container-id-5 label.sk-toggleable__label-arrow:before {content: \"▸\";float: left;margin-right: 0.25em;color: #696969;}#sk-container-id-5 label.sk-toggleable__label-arrow:hover:before {color: black;}#sk-container-id-5 div.sk-estimator:hover label.sk-toggleable__label-arrow:before {color: black;}#sk-container-id-5 div.sk-toggleable__content {max-height: 0;max-width: 0;overflow: hidden;text-align: left;background-color: #f0f8ff;}#sk-container-id-5 div.sk-toggleable__content pre {margin: 0.2em;color: black;border-radius: 0.25em;background-color: #f0f8ff;}#sk-container-id-5 input.sk-toggleable__control:checked~div.sk-toggleable__content {max-height: 200px;max-width: 100%;overflow: auto;}#sk-container-id-5 input.sk-toggleable__control:checked~label.sk-toggleable__label-arrow:before {content: \"▾\";}#sk-container-id-5 div.sk-estimator input.sk-toggleable__control:checked~label.sk-toggleable__label {background-color: #d4ebff;}#sk-container-id-5 div.sk-label input.sk-toggleable__control:checked~label.sk-toggleable__label {background-color: #d4ebff;}#sk-container-id-5 input.sk-hidden--visually {border: 0;clip: rect(1px 1px 1px 1px);clip: rect(1px, 1px, 1px, 1px);height: 1px;margin: -1px;overflow: hidden;padding: 0;position: absolute;width: 1px;}#sk-container-id-5 div.sk-estimator {font-family: monospace;background-color: #f0f8ff;border: 1px dotted black;border-radius: 0.25em;box-sizing: border-box;margin-bottom: 0.5em;}#sk-container-id-5 div.sk-estimator:hover {background-color: #d4ebff;}#sk-container-id-5 div.sk-parallel-item::after {content: \"\";width: 100%;border-bottom: 1px solid gray;flex-grow: 1;}#sk-container-id-5 div.sk-label:hover label.sk-toggleable__label {background-color: #d4ebff;}#sk-container-id-5 div.sk-serial::before {content: \"\";position: absolute;border-left: 1px solid gray;box-sizing: border-box;top: 0;bottom: 0;left: 50%;z-index: 0;}#sk-container-id-5 div.sk-serial {display: flex;flex-direction: column;align-items: center;background-color: white;padding-right: 0.2em;padding-left: 0.2em;position: relative;}#sk-container-id-5 div.sk-item {position: relative;z-index: 1;}#sk-container-id-5 div.sk-parallel {display: flex;align-items: stretch;justify-content: center;background-color: white;position: relative;}#sk-container-id-5 div.sk-item::before, #sk-container-id-5 div.sk-parallel-item::before {content: \"\";position: absolute;border-left: 1px solid gray;box-sizing: border-box;top: 0;bottom: 0;left: 50%;z-index: -1;}#sk-container-id-5 div.sk-parallel-item {display: flex;flex-direction: column;z-index: 1;position: relative;background-color: white;}#sk-container-id-5 div.sk-parallel-item:first-child::after {align-self: flex-end;width: 50%;}#sk-container-id-5 div.sk-parallel-item:last-child::after {align-self: flex-start;width: 50%;}#sk-container-id-5 div.sk-parallel-item:only-child::after {width: 0;}#sk-container-id-5 div.sk-dashed-wrapped {border: 1px dashed gray;margin: 0 0.4em 0.5em 0.4em;box-sizing: border-box;padding-bottom: 0.4em;background-color: white;}#sk-container-id-5 div.sk-label label {font-family: monospace;font-weight: bold;display: inline-block;line-height: 1.2em;}#sk-container-id-5 div.sk-label-container {text-align: center;}#sk-container-id-5 div.sk-container {/* jupyter's `normalize.less` sets `[hidden] { display: none; }` but bootstrap.min.css set `[hidden] { display: none !important; }` so we also need the `!important` here to be able to override the default hidden behavior on the sphinx rendered scikit-learn.org. See: https://github.com/scikit-learn/scikit-learn/issues/21755 */display: inline-block !important;position: relative;}#sk-container-id-5 div.sk-text-repr-fallback {display: none;}</style><div id=\"sk-container-id-5\" class=\"sk-top-container\"><div class=\"sk-text-repr-fallback\"><pre>Pipeline(steps=[(&#x27;preprocessor&#x27;,\n",
       "                 ColumnTransformer(remainder=&#x27;passthrough&#x27;,\n",
       "                                   transformers=[(&#x27;task_type&#x27;,\n",
       "                                                  CountVectorizer(),\n",
       "                                                  &#x27;Task Type&#x27;),\n",
       "                                                 (&#x27;field&#x27;, CountVectorizer(),\n",
       "                                                  &#x27;Field&#x27;),\n",
       "                                                 (&#x27;difficulty&#x27;,\n",
       "                                                  CountVectorizer(),\n",
       "                                                  &#x27;Difficulty&#x27;),\n",
       "                                                 (&#x27;current_skills&#x27;,\n",
       "                                                  CountVectorizer(preprocessor=&lt;function skills_tokenizer at 0x000001E0CD0733A0&gt;,\n",
       "                                                                  tokenizer=&lt;function skills_tokenizer at 0x000001E0CD0733A0&gt;),\n",
       "                                                  &#x27;Current Skills&#x27;),\n",
       "                                                 (&#x27;skills_to_learn&#x27;,\n",
       "                                                  CountVectorizer(preprocessor=&lt;function skills_tokenizer at 0x000001E0CD0733A0&gt;,\n",
       "                                                                  tokenizer=&lt;function skills_tokenizer at 0x000001E0CD0733A0&gt;),\n",
       "                                                  &#x27;Skills to Learn&#x27;)])),\n",
       "                (&#x27;classifier&#x27;, RandomForestClassifier(random_state=42))])</pre><b>In a Jupyter environment, please rerun this cell to show the HTML representation or trust the notebook. <br />On GitHub, the HTML representation is unable to render, please try loading this page with nbviewer.org.</b></div><div class=\"sk-container\" hidden><div class=\"sk-item sk-dashed-wrapped\"><div class=\"sk-label-container\"><div class=\"sk-label sk-toggleable\"><input class=\"sk-toggleable__control sk-hidden--visually\" id=\"sk-estimator-id-61\" type=\"checkbox\" ><label for=\"sk-estimator-id-61\" class=\"sk-toggleable__label sk-toggleable__label-arrow\">Pipeline</label><div class=\"sk-toggleable__content\"><pre>Pipeline(steps=[(&#x27;preprocessor&#x27;,\n",
       "                 ColumnTransformer(remainder=&#x27;passthrough&#x27;,\n",
       "                                   transformers=[(&#x27;task_type&#x27;,\n",
       "                                                  CountVectorizer(),\n",
       "                                                  &#x27;Task Type&#x27;),\n",
       "                                                 (&#x27;field&#x27;, CountVectorizer(),\n",
       "                                                  &#x27;Field&#x27;),\n",
       "                                                 (&#x27;difficulty&#x27;,\n",
       "                                                  CountVectorizer(),\n",
       "                                                  &#x27;Difficulty&#x27;),\n",
       "                                                 (&#x27;current_skills&#x27;,\n",
       "                                                  CountVectorizer(preprocessor=&lt;function skills_tokenizer at 0x000001E0CD0733A0&gt;,\n",
       "                                                                  tokenizer=&lt;function skills_tokenizer at 0x000001E0CD0733A0&gt;),\n",
       "                                                  &#x27;Current Skills&#x27;),\n",
       "                                                 (&#x27;skills_to_learn&#x27;,\n",
       "                                                  CountVectorizer(preprocessor=&lt;function skills_tokenizer at 0x000001E0CD0733A0&gt;,\n",
       "                                                                  tokenizer=&lt;function skills_tokenizer at 0x000001E0CD0733A0&gt;),\n",
       "                                                  &#x27;Skills to Learn&#x27;)])),\n",
       "                (&#x27;classifier&#x27;, RandomForestClassifier(random_state=42))])</pre></div></div></div><div class=\"sk-serial\"><div class=\"sk-item sk-dashed-wrapped\"><div class=\"sk-label-container\"><div class=\"sk-label sk-toggleable\"><input class=\"sk-toggleable__control sk-hidden--visually\" id=\"sk-estimator-id-62\" type=\"checkbox\" ><label for=\"sk-estimator-id-62\" class=\"sk-toggleable__label sk-toggleable__label-arrow\">preprocessor: ColumnTransformer</label><div class=\"sk-toggleable__content\"><pre>ColumnTransformer(remainder=&#x27;passthrough&#x27;,\n",
       "                  transformers=[(&#x27;task_type&#x27;, CountVectorizer(), &#x27;Task Type&#x27;),\n",
       "                                (&#x27;field&#x27;, CountVectorizer(), &#x27;Field&#x27;),\n",
       "                                (&#x27;difficulty&#x27;, CountVectorizer(), &#x27;Difficulty&#x27;),\n",
       "                                (&#x27;current_skills&#x27;,\n",
       "                                 CountVectorizer(preprocessor=&lt;function skills_tokenizer at 0x000001E0CD0733A0&gt;,\n",
       "                                                 tokenizer=&lt;function skills_tokenizer at 0x000001E0CD0733A0&gt;),\n",
       "                                 &#x27;Current Skills&#x27;),\n",
       "                                (&#x27;skills_to_learn&#x27;,\n",
       "                                 CountVectorizer(preprocessor=&lt;function skills_tokenizer at 0x000001E0CD0733A0&gt;,\n",
       "                                                 tokenizer=&lt;function skills_tokenizer at 0x000001E0CD0733A0&gt;),\n",
       "                                 &#x27;Skills to Learn&#x27;)])</pre></div></div></div><div class=\"sk-parallel\"><div class=\"sk-parallel-item\"><div class=\"sk-item\"><div class=\"sk-label-container\"><div class=\"sk-label sk-toggleable\"><input class=\"sk-toggleable__control sk-hidden--visually\" id=\"sk-estimator-id-63\" type=\"checkbox\" ><label for=\"sk-estimator-id-63\" class=\"sk-toggleable__label sk-toggleable__label-arrow\">task_type</label><div class=\"sk-toggleable__content\"><pre>Task Type</pre></div></div></div><div class=\"sk-serial\"><div class=\"sk-item\"><div class=\"sk-estimator sk-toggleable\"><input class=\"sk-toggleable__control sk-hidden--visually\" id=\"sk-estimator-id-64\" type=\"checkbox\" ><label for=\"sk-estimator-id-64\" class=\"sk-toggleable__label sk-toggleable__label-arrow\">CountVectorizer</label><div class=\"sk-toggleable__content\"><pre>CountVectorizer()</pre></div></div></div></div></div></div><div class=\"sk-parallel-item\"><div class=\"sk-item\"><div class=\"sk-label-container\"><div class=\"sk-label sk-toggleable\"><input class=\"sk-toggleable__control sk-hidden--visually\" id=\"sk-estimator-id-65\" type=\"checkbox\" ><label for=\"sk-estimator-id-65\" class=\"sk-toggleable__label sk-toggleable__label-arrow\">field</label><div class=\"sk-toggleable__content\"><pre>Field</pre></div></div></div><div class=\"sk-serial\"><div class=\"sk-item\"><div class=\"sk-estimator sk-toggleable\"><input class=\"sk-toggleable__control sk-hidden--visually\" id=\"sk-estimator-id-66\" type=\"checkbox\" ><label for=\"sk-estimator-id-66\" class=\"sk-toggleable__label sk-toggleable__label-arrow\">CountVectorizer</label><div class=\"sk-toggleable__content\"><pre>CountVectorizer()</pre></div></div></div></div></div></div><div class=\"sk-parallel-item\"><div class=\"sk-item\"><div class=\"sk-label-container\"><div class=\"sk-label sk-toggleable\"><input class=\"sk-toggleable__control sk-hidden--visually\" id=\"sk-estimator-id-67\" type=\"checkbox\" ><label for=\"sk-estimator-id-67\" class=\"sk-toggleable__label sk-toggleable__label-arrow\">difficulty</label><div class=\"sk-toggleable__content\"><pre>Difficulty</pre></div></div></div><div class=\"sk-serial\"><div class=\"sk-item\"><div class=\"sk-estimator sk-toggleable\"><input class=\"sk-toggleable__control sk-hidden--visually\" id=\"sk-estimator-id-68\" type=\"checkbox\" ><label for=\"sk-estimator-id-68\" class=\"sk-toggleable__label sk-toggleable__label-arrow\">CountVectorizer</label><div class=\"sk-toggleable__content\"><pre>CountVectorizer()</pre></div></div></div></div></div></div><div class=\"sk-parallel-item\"><div class=\"sk-item\"><div class=\"sk-label-container\"><div class=\"sk-label sk-toggleable\"><input class=\"sk-toggleable__control sk-hidden--visually\" id=\"sk-estimator-id-69\" type=\"checkbox\" ><label for=\"sk-estimator-id-69\" class=\"sk-toggleable__label sk-toggleable__label-arrow\">current_skills</label><div class=\"sk-toggleable__content\"><pre>Current Skills</pre></div></div></div><div class=\"sk-serial\"><div class=\"sk-item\"><div class=\"sk-estimator sk-toggleable\"><input class=\"sk-toggleable__control sk-hidden--visually\" id=\"sk-estimator-id-70\" type=\"checkbox\" ><label for=\"sk-estimator-id-70\" class=\"sk-toggleable__label sk-toggleable__label-arrow\">CountVectorizer</label><div class=\"sk-toggleable__content\"><pre>CountVectorizer(preprocessor=&lt;function skills_tokenizer at 0x000001E0CD0733A0&gt;,\n",
       "                tokenizer=&lt;function skills_tokenizer at 0x000001E0CD0733A0&gt;)</pre></div></div></div></div></div></div><div class=\"sk-parallel-item\"><div class=\"sk-item\"><div class=\"sk-label-container\"><div class=\"sk-label sk-toggleable\"><input class=\"sk-toggleable__control sk-hidden--visually\" id=\"sk-estimator-id-71\" type=\"checkbox\" ><label for=\"sk-estimator-id-71\" class=\"sk-toggleable__label sk-toggleable__label-arrow\">skills_to_learn</label><div class=\"sk-toggleable__content\"><pre>Skills to Learn</pre></div></div></div><div class=\"sk-serial\"><div class=\"sk-item\"><div class=\"sk-estimator sk-toggleable\"><input class=\"sk-toggleable__control sk-hidden--visually\" id=\"sk-estimator-id-72\" type=\"checkbox\" ><label for=\"sk-estimator-id-72\" class=\"sk-toggleable__label sk-toggleable__label-arrow\">CountVectorizer</label><div class=\"sk-toggleable__content\"><pre>CountVectorizer(preprocessor=&lt;function skills_tokenizer at 0x000001E0CD0733A0&gt;,\n",
       "                tokenizer=&lt;function skills_tokenizer at 0x000001E0CD0733A0&gt;)</pre></div></div></div></div></div></div><div class=\"sk-parallel-item\"><div class=\"sk-item\"><div class=\"sk-label-container\"><div class=\"sk-label sk-toggleable\"><input class=\"sk-toggleable__control sk-hidden--visually\" id=\"sk-estimator-id-73\" type=\"checkbox\" ><label for=\"sk-estimator-id-73\" class=\"sk-toggleable__label sk-toggleable__label-arrow\">remainder</label><div class=\"sk-toggleable__content\"><pre>[&#x27;Available Time per Day (hrs)&#x27;]</pre></div></div></div><div class=\"sk-serial\"><div class=\"sk-item\"><div class=\"sk-estimator sk-toggleable\"><input class=\"sk-toggleable__control sk-hidden--visually\" id=\"sk-estimator-id-74\" type=\"checkbox\" ><label for=\"sk-estimator-id-74\" class=\"sk-toggleable__label sk-toggleable__label-arrow\">passthrough</label><div class=\"sk-toggleable__content\"><pre>passthrough</pre></div></div></div></div></div></div></div></div><div class=\"sk-item\"><div class=\"sk-estimator sk-toggleable\"><input class=\"sk-toggleable__control sk-hidden--visually\" id=\"sk-estimator-id-75\" type=\"checkbox\" ><label for=\"sk-estimator-id-75\" class=\"sk-toggleable__label sk-toggleable__label-arrow\">RandomForestClassifier</label><div class=\"sk-toggleable__content\"><pre>RandomForestClassifier(random_state=42)</pre></div></div></div></div></div></div></div>"
      ],
      "text/plain": [
       "Pipeline(steps=[('preprocessor',\n",
       "                 ColumnTransformer(remainder='passthrough',\n",
       "                                   transformers=[('task_type',\n",
       "                                                  CountVectorizer(),\n",
       "                                                  'Task Type'),\n",
       "                                                 ('field', CountVectorizer(),\n",
       "                                                  'Field'),\n",
       "                                                 ('difficulty',\n",
       "                                                  CountVectorizer(),\n",
       "                                                  'Difficulty'),\n",
       "                                                 ('current_skills',\n",
       "                                                  CountVectorizer(preprocessor=<function skills_tokenizer at 0x000001E0CD0733A0>,\n",
       "                                                                  tokenizer=<function skills_tokenizer at 0x000001E0CD0733A0>),\n",
       "                                                  'Current Skills'),\n",
       "                                                 ('skills_to_learn',\n",
       "                                                  CountVectorizer(preprocessor=<function skills_tokenizer at 0x000001E0CD0733A0>,\n",
       "                                                                  tokenizer=<function skills_tokenizer at 0x000001E0CD0733A0>),\n",
       "                                                  'Skills to Learn')])),\n",
       "                ('classifier', RandomForestClassifier(random_state=42))])"
      ]
     },
     "execution_count": 45,
     "metadata": {},
     "output_type": "execute_result"
    }
   ],
   "source": [
    "pipeline.fit(X_train, y_train)\n"
   ]
  },
  {
   "cell_type": "code",
   "execution_count": 46,
   "id": "412e2b2f",
   "metadata": {},
   "outputs": [],
   "source": [
    "y_pred = pipeline.predict(X_test)\n"
   ]
  },
  {
   "cell_type": "code",
   "execution_count": null,
   "id": "d83cec68",
   "metadata": {},
   "outputs": [
    {
     "name": "stdout",
     "output_type": "stream",
     "text": [
      "Accuracy: 0.96\n"
     ]
    }
   ],
   "source": [
    "from sklearn.metrics import accuracy_score\n",
    "accuracy = accuracy_score(y_test, y_pred)\n",
    "print(f\"Accuracy: {accuracy:.2f}\")"
   ]
  },
  {
   "cell_type": "code",
   "execution_count": 51,
   "id": "6f6c3d80",
   "metadata": {},
   "outputs": [
    {
     "name": "stdout",
     "output_type": "stream",
     "text": [
      "Recommended Task: Community Awareness Campaign\n"
     ]
    }
   ],
   "source": [
    "example_input = {\n",
    "    'Task Type': 'Volunteer',\n",
    "    'Field': 'Design',\n",
    "    'Difficulty': 'Medium',\n",
    "    'Current Skills': 'Photoshop, Excel',\n",
    "    'Skills to Learn': 'Communication, Ads',\n",
    "    'Available Time per Day (hrs)': 9\n",
    "}\n",
    "recommended = pipeline.predict(pd.DataFrame(example_input, index=[0]))\n",
    "task= label_encoder.inverse_transform(recommended)\n",
    "print(f\"Recommended Task: {task[0]}\")"
   ]
  },
  {
   "cell_type": "code",
   "execution_count": 49,
   "id": "70e73ca4",
   "metadata": {},
   "outputs": [
    {
     "data": {
      "text/plain": [
       "['label_encoder.pkl']"
      ]
     },
     "execution_count": 49,
     "metadata": {},
     "output_type": "execute_result"
    }
   ],
   "source": [
    "import joblib \n",
    "joblib.dump(pipeline, 'task_recommendation_model.pkl')\n",
    "joblib.dump(label_encoder, 'label_encoder.pkl')"
   ]
  },
  {
   "cell_type": "code",
   "execution_count": null,
   "id": "e9263e43",
   "metadata": {},
   "outputs": [],
   "source": []
  }
 ],
 "metadata": {
  "kernelspec": {
   "display_name": "workDeep",
   "language": "python",
   "name": "python3"
  },
  "language_info": {
   "codemirror_mode": {
    "name": "ipython",
    "version": 3
   },
   "file_extension": ".py",
   "mimetype": "text/x-python",
   "name": "python",
   "nbconvert_exporter": "python",
   "pygments_lexer": "ipython3",
   "version": "3.9.17"
  }
 },
 "nbformat": 4,
 "nbformat_minor": 5
}
